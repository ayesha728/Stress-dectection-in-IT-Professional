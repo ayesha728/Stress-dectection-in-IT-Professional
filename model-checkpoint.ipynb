{
 "cells": [
  {
   "cell_type": "code",
   "execution_count": 1,
   "metadata": {
    "executionInfo": {
     "elapsed": 4002,
     "status": "ok",
     "timestamp": 1610791195915,
     "user": {
      "displayName": "sathish kumar",
      "photoUrl": "",
      "userId": "09811313852492528034"
     },
     "user_tz": -330
    },
    "id": "-JgPqiPJGB0a"
   },
   "outputs": [
    {
     "name": "stdout",
     "output_type": "stream",
     "text": [
      "3995 angry images\n",
      "436 disgust images\n",
      "4097 fear images\n",
      "7214 happy images\n",
      "4965 neutral images\n",
      "4830 sad images\n",
      "3171 surprise images\n"
     ]
    }
   ],
   "source": [
    "import tensorflow as tf\n",
    "import os\n",
    "from tensorflow.keras.preprocessing.image import ImageDataGenerator\n",
    "from tensorflow.keras import layers, models\n",
    "import matplotlib.pyplot as plt\n",
    "import numpy as np\n",
    "from sklearn.model_selection import train_test_split\n",
    "from tensorflow import keras\n",
    "\n",
    "\n",
    "for expression in os.listdir(\"train/\"):\n",
    "    print(str(len(os.listdir(\"train/\" + expression))) + \" \" + expression + \" images\")"
   ]
  },
  {
   "cell_type": "code",
   "execution_count": 2,
   "metadata": {
    "executionInfo": {
     "elapsed": 3702,
     "status": "ok",
     "timestamp": 1610791195920,
     "user": {
      "displayName": "sathish kumar",
      "photoUrl": "",
      "userId": "09811313852492528034"
     },
     "user_tz": -330
    },
    "id": "SPWeFH5EGB0n"
   },
   "outputs": [],
   "source": [
    "train_dir='train/'\n",
    "test_dir='test/'\n"
   ]
  },
  {
   "cell_type": "code",
   "execution_count": 3,
   "metadata": {
    "executionInfo": {
     "elapsed": 3489,
     "status": "ok",
     "timestamp": 1610791195921,
     "user": {
      "displayName": "sathish kumar",
      "photoUrl": "",
      "userId": "09811313852492528034"
     },
     "user_tz": -330
    },
    "id": "9h-qH8S-GB0p"
   },
   "outputs": [],
   "source": [
    "batch_size =10\n",
    "epochs = 10\n",
    "img_height = 48\n",
    "img_width = 48"
   ]
  },
  {
   "cell_type": "code",
   "execution_count": 4,
   "metadata": {
    "colab": {
     "base_uri": "https://localhost:8080/"
    },
    "executionInfo": {
     "elapsed": 39745,
     "status": "ok",
     "timestamp": 1610791232328,
     "user": {
      "displayName": "sathish kumar",
      "photoUrl": "",
      "userId": "09811313852492528034"
     },
     "user_tz": -330
    },
    "id": "esAOf5LfGB0p",
    "outputId": "9234bb8c-dda3-4b34-b445-09187ea4337b"
   },
   "outputs": [
    {
     "name": "stdout",
     "output_type": "stream",
     "text": [
      "Found 28708 images belonging to 7 classes.\n"
     ]
    }
   ],
   "source": [
    "train_image_generator = ImageDataGenerator(rescale=1./255)  \n",
    "train_data_gen = train_image_generator.flow_from_directory(batch_size=batch_size,directory=train_dir,shuffle=True,target_size=(img_height, img_width),class_mode='categorical')"
   ]
  },
  {
   "cell_type": "code",
   "execution_count": 5,
   "metadata": {
    "colab": {
     "base_uri": "https://localhost:8080/"
    },
    "executionInfo": {
     "elapsed": 47836,
     "status": "ok",
     "timestamp": 1610791240619,
     "user": {
      "displayName": "sathish kumar",
      "photoUrl": "",
      "userId": "09811313852492528034"
     },
     "user_tz": -330
    },
    "id": "7HTI_-XaGB0s",
    "outputId": "040eb250-e8d5-4bdd-c603-6c6465ddbba2"
   },
   "outputs": [
    {
     "name": "stdout",
     "output_type": "stream",
     "text": [
      "Found 20835 images belonging to 7 classes.\n"
     ]
    }
   ],
   "source": [
    "val_image_generator = ImageDataGenerator(rescale=1./255)  \n",
    "val_data_gen = val_image_generator .flow_from_directory(batch_size=batch_size,directory=test_dir,shuffle=True,target_size=(img_height, img_width),class_mode='categorical')"
   ]
  },
  {
   "cell_type": "code",
   "execution_count": 6,
   "metadata": {
    "executionInfo": {
     "elapsed": 47667,
     "status": "ok",
     "timestamp": 1610791240624,
     "user": {
      "displayName": "sathish kumar",
      "photoUrl": "",
      "userId": "09811313852492528034"
     },
     "user_tz": -330
    },
    "id": "-h4l7WpkGB0t"
   },
   "outputs": [],
   "source": [
    "import warnings\n",
    " \n",
    "\n",
    "import os\n",
    "import glob\n",
    "import matplotlib.pyplot as plt\n",
    "\n",
    "# Import Keras\n",
    "import keras\n",
    "from keras.models import Sequential\n",
    "from keras.layers import Dense,Dropout,Flatten\n",
    "from keras.layers import Conv2D,MaxPooling2D,Activation,AveragePooling2D,BatchNormalization\n",
    "from keras.preprocessing.image import ImageDataGenerator"
   ]
  },
  {
   "cell_type": "code",
   "execution_count": 7,
   "metadata": {
    "executionInfo": {
     "elapsed": 47463,
     "status": "ok",
     "timestamp": 1610791240626,
     "user": {
      "displayName": "sathish kumar",
      "photoUrl": "",
      "userId": "09811313852492528034"
     },
     "user_tz": -330
    },
    "id": "4qVhmZxwGB0t"
   },
   "outputs": [],
   "source": [
    "    img_width,img_height =48,48\n",
    "    input_shape=(img_width,img_height,3)"
   ]
  },
  {
   "cell_type": "code",
   "execution_count": 8,
   "metadata": {},
   "outputs": [
    {
     "name": "stdout",
     "output_type": "stream",
     "text": [
      "Model: \"sequential\"\n",
      "_________________________________________________________________\n",
      "Layer (type)                 Output Shape              Param #   \n",
      "=================================================================\n",
      "conv2d (Conv2D)              (None, 48, 48, 32)        896       \n",
      "_________________________________________________________________\n",
      "activation (Activation)      (None, 48, 48, 32)        0         \n",
      "_________________________________________________________________\n",
      "batch_normalization (BatchNo (None, 48, 48, 32)        128       \n",
      "_________________________________________________________________\n",
      "conv2d_1 (Conv2D)            (None, 48, 48, 32)        9248      \n",
      "_________________________________________________________________\n",
      "activation_1 (Activation)    (None, 48, 48, 32)        0         \n",
      "_________________________________________________________________\n",
      "batch_normalization_1 (Batch (None, 48, 48, 32)        128       \n",
      "_________________________________________________________________\n",
      "max_pooling2d (MaxPooling2D) (None, 24, 24, 32)        0         \n",
      "_________________________________________________________________\n",
      "dropout (Dropout)            (None, 24, 24, 32)        0         \n",
      "_________________________________________________________________\n",
      "conv2d_2 (Conv2D)            (None, 24, 24, 64)        18496     \n",
      "_________________________________________________________________\n",
      "activation_2 (Activation)    (None, 24, 24, 64)        0         \n",
      "_________________________________________________________________\n",
      "batch_normalization_2 (Batch (None, 24, 24, 64)        256       \n",
      "_________________________________________________________________\n",
      "conv2d_3 (Conv2D)            (None, 24, 24, 64)        36928     \n",
      "_________________________________________________________________\n",
      "activation_3 (Activation)    (None, 24, 24, 64)        0         \n",
      "_________________________________________________________________\n",
      "batch_normalization_3 (Batch (None, 24, 24, 64)        256       \n",
      "_________________________________________________________________\n",
      "max_pooling2d_1 (MaxPooling2 (None, 12, 12, 64)        0         \n",
      "_________________________________________________________________\n",
      "dropout_1 (Dropout)          (None, 12, 12, 64)        0         \n",
      "_________________________________________________________________\n",
      "conv2d_4 (Conv2D)            (None, 12, 12, 128)       73856     \n",
      "_________________________________________________________________\n",
      "activation_4 (Activation)    (None, 12, 12, 128)       0         \n",
      "_________________________________________________________________\n",
      "batch_normalization_4 (Batch (None, 12, 12, 128)       512       \n",
      "_________________________________________________________________\n",
      "conv2d_5 (Conv2D)            (None, 12, 12, 128)       147584    \n",
      "_________________________________________________________________\n",
      "activation_5 (Activation)    (None, 12, 12, 128)       0         \n",
      "_________________________________________________________________\n",
      "batch_normalization_5 (Batch (None, 12, 12, 128)       512       \n",
      "_________________________________________________________________\n",
      "max_pooling2d_2 (MaxPooling2 (None, 6, 6, 128)         0         \n",
      "_________________________________________________________________\n",
      "dropout_2 (Dropout)          (None, 6, 6, 128)         0         \n",
      "_________________________________________________________________\n",
      "conv2d_6 (Conv2D)            (None, 6, 6, 256)         295168    \n",
      "_________________________________________________________________\n",
      "activation_6 (Activation)    (None, 6, 6, 256)         0         \n",
      "_________________________________________________________________\n",
      "batch_normalization_6 (Batch (None, 6, 6, 256)         1024      \n",
      "_________________________________________________________________\n",
      "conv2d_7 (Conv2D)            (None, 6, 6, 256)         590080    \n",
      "_________________________________________________________________\n",
      "activation_7 (Activation)    (None, 6, 6, 256)         0         \n",
      "_________________________________________________________________\n",
      "batch_normalization_7 (Batch (None, 6, 6, 256)         1024      \n",
      "_________________________________________________________________\n",
      "max_pooling2d_3 (MaxPooling2 (None, 3, 3, 256)         0         \n",
      "_________________________________________________________________\n",
      "dropout_3 (Dropout)          (None, 3, 3, 256)         0         \n",
      "_________________________________________________________________\n",
      "flatten (Flatten)            (None, 2304)              0         \n",
      "_________________________________________________________________\n",
      "dense (Dense)                (None, 64)                147520    \n",
      "_________________________________________________________________\n",
      "activation_8 (Activation)    (None, 64)                0         \n",
      "_________________________________________________________________\n",
      "batch_normalization_8 (Batch (None, 64)                256       \n",
      "_________________________________________________________________\n",
      "dropout_4 (Dropout)          (None, 64)                0         \n",
      "_________________________________________________________________\n",
      "dense_1 (Dense)              (None, 64)                4160      \n",
      "_________________________________________________________________\n",
      "activation_9 (Activation)    (None, 64)                0         \n",
      "_________________________________________________________________\n",
      "batch_normalization_9 (Batch (None, 64)                256       \n",
      "_________________________________________________________________\n",
      "dropout_5 (Dropout)          (None, 64)                0         \n",
      "_________________________________________________________________\n",
      "dense_2 (Dense)              (None, 7)                 455       \n",
      "_________________________________________________________________\n",
      "activation_10 (Activation)   (None, 7)                 0         \n",
      "=================================================================\n",
      "Total params: 1,328,743\n",
      "Trainable params: 1,326,567\n",
      "Non-trainable params: 2,176\n",
      "_________________________________________________________________\n"
     ]
    }
   ],
   "source": [
    "model = tf.keras.Sequential()\n",
    "\n",
    "model.add(Conv2D(32,(3,3),padding='same',kernel_initializer='he_normal',input_shape=input_shape))\n",
    "model.add(Activation('relu'))\n",
    "model.add(BatchNormalization())\n",
    "model.add(Conv2D(32,(3,3),padding='same',kernel_initializer='he_normal',input_shape=(48,48,1)))\n",
    "model.add(Activation('relu'))\n",
    "model.add(BatchNormalization())\n",
    "model.add(MaxPooling2D(pool_size=(2,2)))\n",
    "model.add(Dropout(0.2))\n",
    "\n",
    "\n",
    "\n",
    "model.add(Conv2D(64,(3,3),padding='same',kernel_initializer='he_normal'))\n",
    "model.add(Activation('relu'))\n",
    "model.add(BatchNormalization())\n",
    "model.add(Conv2D(64,(3,3),padding='same',kernel_initializer='he_normal'))\n",
    "model.add(Activation('relu'))\n",
    "model.add(BatchNormalization())\n",
    "model.add(MaxPooling2D(pool_size=(2,2)))\n",
    "model.add(Dropout(0.2))\n",
    "\n",
    "\n",
    "\n",
    "model.add(Conv2D(128,(3,3),padding='same',kernel_initializer='he_normal'))\n",
    "model.add(Activation('relu'))\n",
    "model.add(BatchNormalization())\n",
    "model.add(Conv2D(128,(3,3),padding='same',kernel_initializer='he_normal'))\n",
    "model.add(Activation('relu'))\n",
    "model.add(BatchNormalization())\n",
    "model.add(MaxPooling2D(pool_size=(2,2)))\n",
    "model.add(Dropout(0.2))\n",
    "\n",
    "\n",
    "\n",
    "model.add(Conv2D(256,(3,3),padding='same',kernel_initializer='he_normal'))\n",
    "model.add(Activation('relu'))\n",
    "model.add(BatchNormalization())\n",
    "model.add(Conv2D(256,(3,3),padding='same',kernel_initializer='he_normal'))\n",
    "model.add(Activation('relu'))\n",
    "model.add(BatchNormalization())\n",
    "model.add(MaxPooling2D(pool_size=(2,2)))\n",
    "model.add(Dropout(0.2))\n",
    "\n",
    "\n",
    "\n",
    "model.add(Flatten())\n",
    "model.add(Dense(64,kernel_initializer='he_normal'))\n",
    "model.add(Activation('relu'))\n",
    "model.add(BatchNormalization())\n",
    "model.add(Dropout(0.5))\n",
    "\n",
    "\n",
    "model.add(Dense(64,kernel_initializer='he_normal'))\n",
    "model.add(Activation('relu'))\n",
    "model.add(BatchNormalization())\n",
    "model.add(Dropout(0.5))\n",
    "\n",
    "\n",
    "\n",
    "model.add(Dense(7,kernel_initializer='he_normal'))\n",
    "model.add(Activation('softmax'))\n",
    "\n",
    "model.summary()"
   ]
  },
  {
   "cell_type": "code",
   "execution_count": 9,
   "metadata": {
    "colab": {
     "base_uri": "https://localhost:8080/"
    },
    "executionInfo": {
     "elapsed": 49410,
     "status": "ok",
     "timestamp": 1610791243517,
     "user": {
      "displayName": "sathish kumar",
      "photoUrl": "",
      "userId": "09811313852492528034"
     },
     "user_tz": -330
    },
    "id": "MIX3MsZgGB0v",
    "outputId": "a6163d8e-0ad6-4049-9d97-45c4beafeb17"
   },
   "outputs": [],
   "source": [
    "model.compile(optimizer='adam',\n",
    "loss='categorical_crossentropy',\n",
    "metrics=['accuracy'])\n"
   ]
  },
  {
   "cell_type": "code",
   "execution_count": 10,
   "metadata": {
    "executionInfo": {
     "elapsed": 50040,
     "status": "ok",
     "timestamp": 1610791244482,
     "user": {
      "displayName": "sathish kumar",
      "photoUrl": "",
      "userId": "09811313852492528034"
     },
     "user_tz": -330
    },
    "id": "_n0Anzw2GB0w"
   },
   "outputs": [
    {
     "name": "stdout",
     "output_type": "stream",
     "text": [
      "Epoch 1/50\n",
      "2871/2871 [==============================] - 509s 177ms/step - loss: 1.9470 - accuracy: 0.2393 - val_loss: 1.6200 - val_accuracy: 0.3508\n",
      "Epoch 2/50\n",
      "2871/2871 [==============================] - 511s 178ms/step - loss: 1.5925 - accuracy: 0.3758 - val_loss: 1.4355 - val_accuracy: 0.4465\n",
      "Epoch 3/50\n",
      "2871/2871 [==============================] - 506s 176ms/step - loss: 1.4292 - accuracy: 0.4543 - val_loss: 1.2596 - val_accuracy: 0.5083\n",
      "Epoch 4/50\n",
      "2871/2871 [==============================] - 501s 175ms/step - loss: 1.3505 - accuracy: 0.4897 - val_loss: 1.2218 - val_accuracy: 0.5241\n",
      "Epoch 5/50\n",
      "2871/2871 [==============================] - 499s 174ms/step - loss: 1.2875 - accuracy: 0.5228 - val_loss: 1.1409 - val_accuracy: 0.5673\n",
      "Epoch 6/50\n",
      "2871/2871 [==============================] - 498s 174ms/step - loss: 1.2412 - accuracy: 0.5428 - val_loss: 1.0303 - val_accuracy: 0.6190\n",
      "Epoch 7/50\n",
      "2871/2871 [==============================] - 497s 173ms/step - loss: 1.1929 - accuracy: 0.5661 - val_loss: 1.0181 - val_accuracy: 0.6264\n",
      "Epoch 8/50\n",
      "2871/2871 [==============================] - 502s 175ms/step - loss: 1.1406 - accuracy: 0.5843 - val_loss: 1.0058 - val_accuracy: 0.6287\n",
      "Epoch 9/50\n",
      "2871/2871 [==============================] - 500s 174ms/step - loss: 1.1112 - accuracy: 0.6014 - val_loss: 0.8711 - val_accuracy: 0.6791\n",
      "Epoch 10/50\n",
      "2871/2871 [==============================] - 509s 177ms/step - loss: 1.0643 - accuracy: 0.6183 - val_loss: 0.8119 - val_accuracy: 0.7055\n",
      "Epoch 11/50\n",
      "2871/2871 [==============================] - 500s 174ms/step - loss: 1.0296 - accuracy: 0.6329 - val_loss: 0.7420 - val_accuracy: 0.7366\n",
      "Epoch 12/50\n",
      "2871/2871 [==============================] - 499s 174ms/step - loss: 0.9862 - accuracy: 0.6522 - val_loss: 0.7183 - val_accuracy: 0.7410\n",
      "Epoch 13/50\n",
      "2871/2871 [==============================] - 499s 174ms/step - loss: 0.9575 - accuracy: 0.6616 - val_loss: 0.6623 - val_accuracy: 0.7648\n",
      "Epoch 14/50\n",
      "2871/2871 [==============================] - 499s 174ms/step - loss: 0.9195 - accuracy: 0.6772 - val_loss: 0.6010 - val_accuracy: 0.7969\n",
      "Epoch 15/50\n",
      "2871/2871 [==============================] - 500s 174ms/step - loss: 0.8874 - accuracy: 0.6904 - val_loss: 0.5515 - val_accuracy: 0.8171\n",
      "Epoch 16/50\n",
      "2871/2871 [==============================] - 500s 174ms/step - loss: 0.8527 - accuracy: 0.7040 - val_loss: 0.5721 - val_accuracy: 0.7990\n",
      "Epoch 17/50\n",
      "2871/2871 [==============================] - 501s 175ms/step - loss: 0.8334 - accuracy: 0.7148 - val_loss: 0.5014 - val_accuracy: 0.8312\n",
      "Epoch 18/50\n",
      "2871/2871 [==============================] - 508s 177ms/step - loss: 0.8083 - accuracy: 0.7240 - val_loss: 0.4392 - val_accuracy: 0.8606\n",
      "Epoch 19/50\n",
      "2871/2871 [==============================] - 499s 174ms/step - loss: 0.7878 - accuracy: 0.7303 - val_loss: 0.4282 - val_accuracy: 0.8633\n",
      "Epoch 20/50\n",
      "2871/2871 [==============================] - 500s 174ms/step - loss: 0.7519 - accuracy: 0.7440 - val_loss: 0.3727 - val_accuracy: 0.8833\n",
      "Epoch 21/50\n",
      "2871/2871 [==============================] - 500s 174ms/step - loss: 0.7303 - accuracy: 0.7533 - val_loss: 0.3452 - val_accuracy: 0.8871\n",
      "Epoch 22/50\n",
      "2871/2871 [==============================] - 499s 174ms/step - loss: 0.7035 - accuracy: 0.7650 - val_loss: 0.3209 - val_accuracy: 0.9014\n",
      "Epoch 23/50\n",
      "2871/2871 [==============================] - 500s 174ms/step - loss: 0.6707 - accuracy: 0.7747 - val_loss: 0.2824 - val_accuracy: 0.9164\n",
      "Epoch 24/50\n",
      "2871/2871 [==============================] - 510s 178ms/step - loss: 0.6514 - accuracy: 0.7840 - val_loss: 0.2791 - val_accuracy: 0.9138\n",
      "Epoch 25/50\n",
      "2871/2871 [==============================] - 509s 177ms/step - loss: 0.6267 - accuracy: 0.7913 - val_loss: 0.2411 - val_accuracy: 0.9293\n",
      "Epoch 26/50\n",
      "2871/2871 [==============================] - 499s 174ms/step - loss: 0.6070 - accuracy: 0.7988 - val_loss: 0.2475 - val_accuracy: 0.9252\n",
      "Epoch 27/50\n",
      "2871/2871 [==============================] - 508s 177ms/step - loss: 0.5964 - accuracy: 0.8037 - val_loss: 0.2216 - val_accuracy: 0.9326\n",
      "Epoch 28/50\n",
      "2871/2871 [==============================] - 507s 177ms/step - loss: 0.5915 - accuracy: 0.8042 - val_loss: 0.1965 - val_accuracy: 0.9438\n",
      "Epoch 29/50\n",
      "2871/2871 [==============================] - 505s 176ms/step - loss: 0.5586 - accuracy: 0.8154 - val_loss: 0.1796 - val_accuracy: 0.9477\n",
      "Epoch 30/50\n",
      "2871/2871 [==============================] - 506s 176ms/step - loss: 0.5519 - accuracy: 0.8208 - val_loss: 0.1780 - val_accuracy: 0.9495\n",
      "Epoch 31/50\n",
      "2871/2871 [==============================] - 508s 177ms/step - loss: 0.5428 - accuracy: 0.8198 - val_loss: 0.1607 - val_accuracy: 0.9563\n",
      "Epoch 32/50\n",
      "2871/2871 [==============================] - 506s 176ms/step - loss: 0.5342 - accuracy: 0.8274 - val_loss: 0.1424 - val_accuracy: 0.9626\n",
      "Epoch 33/50\n",
      "2871/2871 [==============================] - 507s 177ms/step - loss: 0.5119 - accuracy: 0.8329 - val_loss: 0.1344 - val_accuracy: 0.9639\n",
      "Epoch 34/50\n",
      "2871/2871 [==============================] - 506s 176ms/step - loss: 0.4928 - accuracy: 0.8417 - val_loss: 0.1266 - val_accuracy: 0.9654\n",
      "Epoch 35/50\n",
      "2871/2871 [==============================] - 506s 176ms/step - loss: 0.4840 - accuracy: 0.8425 - val_loss: 0.1510 - val_accuracy: 0.9567\n",
      "Epoch 36/50\n",
      "2871/2871 [==============================] - 506s 176ms/step - loss: 0.4849 - accuracy: 0.8438 - val_loss: 0.1428 - val_accuracy: 0.9577\n",
      "Epoch 37/50\n",
      "2871/2871 [==============================] - 506s 176ms/step - loss: 0.4675 - accuracy: 0.8483 - val_loss: 0.1041 - val_accuracy: 0.9727\n",
      "Epoch 38/50\n",
      "2871/2871 [==============================] - 509s 177ms/step - loss: 0.4521 - accuracy: 0.8556 - val_loss: 0.1108 - val_accuracy: 0.9688\n",
      "Epoch 39/50\n",
      "2871/2871 [==============================] - 509s 177ms/step - loss: 0.4484 - accuracy: 0.8561 - val_loss: 0.0944 - val_accuracy: 0.9750\n",
      "Epoch 40/50\n",
      "2871/2871 [==============================] - 507s 177ms/step - loss: 0.4313 - accuracy: 0.8598 - val_loss: 0.1023 - val_accuracy: 0.9717\n",
      "Epoch 41/50\n",
      "2871/2871 [==============================] - 506s 176ms/step - loss: 0.4243 - accuracy: 0.8614 - val_loss: 0.0801 - val_accuracy: 0.9795\n",
      "Epoch 42/50\n",
      "2871/2871 [==============================] - 507s 176ms/step - loss: 0.4686 - accuracy: 0.8500 - val_loss: 0.0798 - val_accuracy: 0.9807\n",
      "Epoch 43/50\n",
      "2871/2871 [==============================] - 507s 176ms/step - loss: 0.3977 - accuracy: 0.8748 - val_loss: 0.0720 - val_accuracy: 0.9819\n",
      "Epoch 44/50\n",
      "2871/2871 [==============================] - 506s 176ms/step - loss: 0.4130 - accuracy: 0.8680 - val_loss: 0.1517 - val_accuracy: 0.9550\n",
      "Epoch 45/50\n",
      "2871/2871 [==============================] - 508s 177ms/step - loss: 0.4079 - accuracy: 0.8704 - val_loss: 0.0655 - val_accuracy: 0.9833\n",
      "Epoch 46/50\n",
      "2871/2871 [==============================] - 509s 177ms/step - loss: 0.3887 - accuracy: 0.8767 - val_loss: 0.0661 - val_accuracy: 0.9833\n",
      "Epoch 47/50\n",
      "2871/2871 [==============================] - 508s 177ms/step - loss: 0.3764 - accuracy: 0.8798 - val_loss: 0.0678 - val_accuracy: 0.9824\n",
      "Epoch 48/50\n",
      "2871/2871 [==============================] - 506s 176ms/step - loss: 0.3767 - accuracy: 0.8820 - val_loss: 0.0681 - val_accuracy: 0.9831\n",
      "Epoch 49/50\n",
      "2871/2871 [==============================] - 508s 177ms/step - loss: 0.3610 - accuracy: 0.8837 - val_loss: 0.0536 - val_accuracy: 0.9863\n",
      "Epoch 50/50\n",
      "2871/2871 [==============================] - 506s 176ms/step - loss: 0.3820 - accuracy: 0.8797 - val_loss: 0.0542 - val_accuracy: 0.9869\n"
     ]
    }
   ],
   "source": [
    "history = model.fit(train_data_gen, epochs=50,\n",
    "validation_data= val_data_gen,)"
   ]
  },
  {
   "cell_type": "code",
   "execution_count": 11,
   "metadata": {},
   "outputs": [],
   "source": [
    "\n",
    "\n",
    "model.save('model_weight.h5')"
   ]
  },
  {
   "cell_type": "code",
   "execution_count": 12,
   "metadata": {},
   "outputs": [],
   "source": [
    "import numpy as np"
   ]
  },
  {
   "cell_type": "code",
   "execution_count": 13,
   "metadata": {},
   "outputs": [
    {
     "name": "stdout",
     "output_type": "stream",
     "text": [
      "2243/2243 - 57s\n"
     ]
    }
   ],
   "source": [
    "y=np.concatenate([val_data_gen.next()[1] for i in range(val_data_gen.__len__())])\n",
    "true_labels=np.argmax(y, axis=-1)\n",
    "prediction= model.predict(val_data_gen, verbose=2)\n",
    "prediction=np.argmax(prediction, axis=-1)"
   ]
  },
  {
   "cell_type": "code",
   "execution_count": 14,
   "metadata": {},
   "outputs": [],
   "source": [
    "def plot_confusion_matrix(cm, classes,\n",
    "                          normalize=False,\n",
    "                          title='Confusion matrix',\n",
    "                          cmap=plt.cm.Blues):\n",
    "    \"\"\"\n",
    "    This function prints and plots the confusion matrix.\n",
    "    Normalization can be applied by setting `normalize=True`.\n",
    "    \"\"\"\n",
    "    plt.imshow(cm, interpolation='nearest', cmap=cmap)\n",
    "    plt.title(title)\n",
    "    plt.colorbar()\n",
    "    tick_marks = np.arange(len(classes))\n",
    "    plt.xticks(tick_marks, classes, rotation=45)\n",
    "    plt.yticks(tick_marks, classes)\n",
    "\n",
    "    if normalize:\n",
    "        cm = cm.astype('float') / cm.sum(axis=1)[:, np.newaxis]\n",
    "        print(\"Normalized confusion matrix\")\n",
    "    else:\n",
    "        print('Confusion matrix, without normalization')\n",
    "\n",
    "    print(cm)\n",
    "\n",
    "    thresh = cm.max() / 2.\n",
    "    for i, j in itertools.product(range(cm.shape[0]), range(cm.shape[1])):\n",
    "        plt.text(j, i, cm[i, j],\n",
    "            horizontalalignment=\"center\",\n",
    "            color=\"white\" if cm[i, j] > thresh else \"black\")\n",
    "\n",
    "    plt.tight_layout()\n",
    "    plt.ylabel('True label')\n",
    "    plt.xlabel('Predicted label')"
   ]
  },
  {
   "cell_type": "code",
   "execution_count": 15,
   "metadata": {},
   "outputs": [],
   "source": [
    "from sklearn.metrics import confusion_matrix\n",
    "import itertools\n",
    "import matplotlib.pyplot as plt\n",
    "cm = confusion_matrix(y_true=true_labels, y_pred=prediction)"
   ]
  },
  {
   "cell_type": "code",
   "execution_count": 16,
   "metadata": {},
   "outputs": [],
   "source": [
    "cm_plot_labels = ['angry','disgust','fear','happy','neutral','sad','surprise']"
   ]
  },
  {
   "cell_type": "code",
   "execution_count": 17,
   "metadata": {},
   "outputs": [
    {
     "name": "stdout",
     "output_type": "stream",
     "text": [
      "Confusion matrix, without normalization\n",
      "[[3005    2    7    0   15    8    1]\n",
      " [   0  281    0    0    0    1    0]\n",
      " [  16    3 3237    2    9   23   15]\n",
      " [   3    0    4 5664    3    0   12]\n",
      " [   6    0    2   25 4063   10    1]\n",
      " [  20    0   36    4   39 3818    0]\n",
      " [   2    0   19    2    3    0 2067]]\n",
      "Accuracy: 0.987\n",
      "Precision: 0.980\n",
      "Recall: 0.987\n",
      "F-Measure: 0.987\n"
     ]
    },
    {
     "data": {
      "image/png": "[encoded data removed]",
      "text/plain": [
       "<Figure size 432x288 with 2 Axes>"
      ]
     },
     "metadata": {
      "needs_background": "light"
     },
     "output_type": "display_data"
    }
   ],
   "source": [
    "plot_confusion_matrix(cm=cm, classes=cm_plot_labels, title='Confusion Matrix')\n",
    "from sklearn.metrics import accuracy_score\n",
    "acc=accuracy_score(true_labels,prediction) \n",
    "print('Accuracy: %.3f' % acc)\n",
    "from sklearn.metrics import precision_score\n",
    "precision = precision_score(true_labels,prediction,labels=[1,2], average='micro')\n",
    "print('Precision: %.3f' % precision)\n",
    "from sklearn.metrics import recall_score\n",
    "recall = recall_score(true_labels,prediction, average='micro')\n",
    "print('Recall: %.3f' % recall)\n",
    "from sklearn.metrics import f1_score\n",
    "score = f1_score(true_labels,prediction, average='micro')\n",
    "print('F-Measure: %.3f' % score)"
   ]
  },
  {
   "cell_type": "code",
   "execution_count": null,
   "metadata": {},
   "outputs": [],
   "source": [
    "\n"
   ]
  },
  {
   "cell_type": "code",
   "execution_count": 24,
   "metadata": {
    "executionInfo": {
     "elapsed": 1614,
     "status": "ok",
     "timestamp": 1610793863258,
     "user": {
      "displayName": "sathish kumar",
      "photoUrl": "",
      "userId": "09811313852492528034"
     },
     "user_tz": -330
    },
    "id": "rONFCJWgGB0x"
   },
   "outputs": [],
   "source": [
    "model_json = model.to_json()\n",
    "with open(\"models.json\", \"w\") as json_file:\n",
    "    json_file.write(model_json)"
   ]
  },
  {
   "cell_type": "code",
   "execution_count": null,
   "metadata": {
    "id": "TPIa0qPdy8FD"
   },
   "outputs": [],
   "source": []
  }
 ],
 "metadata": {
  "colab": {
   "collapsed_sections": [],
   "name": "leaf.ipynb",
   "provenance": []
  },
  "kernelspec": {
   "display_name": "Python 3",
   "language": "python",
   "name": "python3"
  },
  "language_info": {
   "codemirror_mode": {
    "name": "ipython",
    "version": 3
   },
   "file_extension": ".py",
   "mimetype": "text/x-python",
   "name": "python",
   "nbconvert_exporter": "python",
   "pygments_lexer": "ipython3",
   "version": "3.8.8"
  }
 },
 "nbformat": 4,
 "nbformat_minor": 1
}
